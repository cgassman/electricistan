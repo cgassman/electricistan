{
 "cells": [
  {
   "cell_type": "code",
   "execution_count": null,
   "id": "920e0cdf-2e72-4e60-8b4f-b61d44c629c4",
   "metadata": {},
   "outputs": [],
   "source": [
    "import pandas as pd\n",
    "import numpy as np\n",
    "import xgboost as xgb\n",
    "from sklearn.metrics import mean_squared_error"
   ]
  },
  {
   "cell_type": "code",
   "execution_count": null,
   "id": "673d3cbb-69ce-4060-a021-fee562345dfc",
   "metadata": {},
   "outputs": [],
   "source": [
    "df = pd.read_csv(\"../data/electricistan/train_prepped.csv\")\n",
    "df = df.set_index('datetime')\n",
    "df.index = pd.to_datetime(df.index)\n",
    "df.info()"
   ]
  },
  {
   "cell_type": "markdown",
   "id": "4691b1c5-93fb-4b9b-9f50-658ce63ac14f",
   "metadata": {},
   "source": [
    "# Preprocessing"
   ]
  },
  {
   "cell_type": "code",
   "execution_count": null,
   "id": "a16ae07a-1806-4e14-adc1-11042c21f45c",
   "metadata": {},
   "outputs": [],
   "source": [
    "# Splitting Dataset - should be improved e.g. through cross validation. \n",
    "train = df.loc[df.index < '01-01-2020']\n",
    "test = df.loc[df.index >= '01-01-2020']"
   ]
  },
  {
   "cell_type": "code",
   "execution_count": null,
   "id": "3cb75f0e-673d-448a-96d1-4a8943e37230",
   "metadata": {},
   "outputs": [],
   "source": [
    "# Scaling Dataset"
   ]
  },
  {
   "cell_type": "code",
   "execution_count": null,
   "id": "466eed5d-e6ca-44f3-a7d5-de5a2ab8d6cd",
   "metadata": {},
   "outputs": [],
   "source": []
  },
  {
   "cell_type": "code",
   "execution_count": null,
   "id": "98db19d0-9ce5-472f-8dd1-2769787c8b4d",
   "metadata": {},
   "outputs": [],
   "source": []
  },
  {
   "cell_type": "markdown",
   "id": "7460e08e-98a7-4bf9-82f1-15c8678274a7",
   "metadata": {},
   "source": [
    "# Training"
   ]
  },
  {
   "cell_type": "code",
   "execution_count": null,
   "id": "fdf1342e-4ebc-4856-b0ed-275518617027",
   "metadata": {},
   "outputs": [],
   "source": [
    "FEATURES = ['dayofyear', 'hour', 'dayofweek', 'quarter', 'month', 'year']\n",
    "TARGET = 'power'\n",
    "\n",
    "X_train = train[FEATURES]\n",
    "y_train = train[TARGET]\n",
    "\n",
    "X_test = test[FEATURES]\n",
    "y_test = test[TARGET]"
   ]
  },
  {
   "cell_type": "code",
   "execution_count": null,
   "id": "b4875c24-47dc-40a8-ac2f-8b85a5d05355",
   "metadata": {},
   "outputs": [],
   "source": [
    "reg = xgb.XGBRegressor(base_score=0.5, booster='gbtree',    \n",
    "                       n_estimators=1500,\n",
    "                       early_stopping_rounds=50,\n",
    "                       objective='reg:linear',\n",
    "                       #max_depth=3,\n",
    "                       learning_rate=0.01)\n",
    "reg.fit(X_train, y_train,\n",
    "        eval_set=[(X_train, y_train), (X_test, y_test)],\n",
    "        verbose=100)"
   ]
  },
  {
   "cell_type": "code",
   "execution_count": null,
   "id": "710dac16-dc41-46d9-b2fa-bfe21ad720e5",
   "metadata": {},
   "outputs": [],
   "source": [
    "# predict on test\n",
    "test['prediction'] = reg.predict(X_test)"
   ]
  },
  {
   "cell_type": "code",
   "execution_count": null,
   "id": "24414a8f-d16a-48d6-8126-2f95cf7db7e3",
   "metadata": {},
   "outputs": [],
   "source": [
    "score = np.sqrt(mean_squared_error(test['power'], test['prediction']))\n",
    "print(f'RMSE Score on Test set: {score:0.2f}')"
   ]
  },
  {
   "cell_type": "markdown",
   "id": "43005b90-4a97-4229-91bc-4852f8ea8f1d",
   "metadata": {},
   "source": [
    "# Predict"
   ]
  },
  {
   "cell_type": "code",
   "execution_count": null,
   "id": "4c5ddc81-21e4-4d10-9140-a4e316e802f6",
   "metadata": {},
   "outputs": [],
   "source": [
    "# We import the test set\n",
    "testSet = pd.read_csv(\"../data/electricistan/test.csv\")\n",
    "submission = pd.read_csv(\"../data/electricistan/sample_submission_csv.csv\")\n",
    "\n",
    "#index for TestSet\n",
    "testSet = testSet.set_index('datetime')\n",
    "testSet.index = pd.to_datetime(testSet.index)"
   ]
  },
  {
   "cell_type": "code",
   "execution_count": null,
   "id": "54d103fc-71b3-4fb5-bb8e-5a2dcc3e8e2c",
   "metadata": {},
   "outputs": [],
   "source": [
    "# Feature creation\n",
    "testSet['hour'] = testSet.index.hour\n",
    "testSet['dayofweek'] = testSet.index.dayofweek\n",
    "testSet['quarter'] = testSet.index.quarter\n",
    "testSet['month'] = testSet.index.month\n",
    "testSet['year'] = testSet.index.year\n",
    "testSet['dayofyear'] = testSet.index.dayofyear\n",
    "testSet['dayofmonth'] = testSet.index.day\n",
    "testSet['weekofyear'] = testSet.index.isocalendar().week"
   ]
  },
  {
   "cell_type": "code",
   "execution_count": null,
   "id": "6c735682-04fe-4a50-9ec2-333b72d0aa52",
   "metadata": {},
   "outputs": [],
   "source": [
    "testSet = testSet[FEATURES]"
   ]
  },
  {
   "cell_type": "code",
   "execution_count": null,
   "id": "fbdc69d0-9cfe-4c09-b003-b228edebee05",
   "metadata": {},
   "outputs": [],
   "source": [
    "print(X_train.shape)\n",
    "print(testSet.shape)"
   ]
  },
  {
   "cell_type": "code",
   "execution_count": null,
   "id": "c222ba10-31cb-4be5-b261-00824f2e5118",
   "metadata": {},
   "outputs": [],
   "source": [
    "# Prediction with XGBoost\n",
    "pred = reg.predict(testSet)"
   ]
  },
  {
   "cell_type": "markdown",
   "id": "9289ded8-d6d4-4615-86b0-ebb54256b882",
   "metadata": {},
   "source": [
    "# Submission write"
   ]
  },
  {
   "cell_type": "code",
   "execution_count": null,
   "id": "b4205967-529e-4770-89c0-729a0bfffd6f",
   "metadata": {},
   "outputs": [],
   "source": [
    "# Creation of the submission CSV\n",
    "submission['power'] = pred\n",
    "\n",
    "print(submission)\n",
    "\n",
    "submission.to_csv('../data/electricistan/submission.csv',index=False)"
   ]
  }
 ],
 "metadata": {
  "kernelspec": {
   "display_name": "Python 3 (ipykernel)",
   "language": "python",
   "name": "python3"
  },
  "language_info": {
   "codemirror_mode": {
    "name": "ipython",
    "version": 3
   },
   "file_extension": ".py",
   "mimetype": "text/x-python",
   "name": "python",
   "nbconvert_exporter": "python",
   "pygments_lexer": "ipython3",
   "version": "3.11.5"
  }
 },
 "nbformat": 4,
 "nbformat_minor": 5
}
