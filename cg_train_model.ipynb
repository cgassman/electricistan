{
 "cells": [
  {
   "cell_type": "code",
   "execution_count": 26,
   "id": "920e0cdf-2e72-4e60-8b4f-b61d44c629c4",
   "metadata": {},
   "outputs": [],
   "source": [
    "import pandas as pd\n",
    "import numpy as np\n",
    "\n",
    "import xgboost as xgb\n",
    "from sklearn.metrics import mean_squared_error\n",
    "from sklearn.preprocessing import StandardScaler"
   ]
  },
  {
   "cell_type": "code",
   "execution_count": 28,
   "id": "673d3cbb-69ce-4060-a021-fee562345dfc",
   "metadata": {},
   "outputs": [
    {
     "name": "stdout",
     "output_type": "stream",
     "text": [
      "<class 'pandas.core.frame.DataFrame'>\n",
      "DatetimeIndex: 375355 entries, 2012-01-01 00:15:00 to 2022-09-14 23:45:00\n",
      "Data columns (total 9 columns):\n",
      " #   Column      Non-Null Count   Dtype\n",
      "---  ------      --------------   -----\n",
      " 0   power       375355 non-null  int64\n",
      " 1   hour        375355 non-null  int64\n",
      " 2   dayofweek   375355 non-null  int64\n",
      " 3   quarter     375355 non-null  int64\n",
      " 4   month       375355 non-null  int64\n",
      " 5   year        375355 non-null  int64\n",
      " 6   dayofyear   375355 non-null  int64\n",
      " 7   dayofmonth  375355 non-null  int64\n",
      " 8   weekofyear  375355 non-null  int64\n",
      "dtypes: int64(9)\n",
      "memory usage: 28.6 MB\n"
     ]
    }
   ],
   "source": [
    "df = pd.read_csv(\"../data/electricistan/train_prepped.csv\")\n",
    "df = df.set_index('datetime')\n",
    "df.index = pd.to_datetime(df.index)\n",
    "df.info()"
   ]
  },
  {
   "cell_type": "markdown",
   "id": "4691b1c5-93fb-4b9b-9f50-658ce63ac14f",
   "metadata": {},
   "source": [
    "# Preprocessing"
   ]
  },
  {
   "cell_type": "code",
   "execution_count": 44,
   "id": "a16ae07a-1806-4e14-adc1-11042c21f45c",
   "metadata": {},
   "outputs": [],
   "source": [
    "# Splitting Dataset - should be improved e.g. through cross validation. \n",
    "train = df.loc[df.index < '01-01-2020']\n",
    "test = df.loc[df.index >= '01-01-2020']"
   ]
  },
  {
   "cell_type": "code",
   "execution_count": 45,
   "id": "6f94ae9a-651f-4983-9e7a-4cab91f1afea",
   "metadata": {},
   "outputs": [],
   "source": [
    "# split into train and test with ... "
   ]
  },
  {
   "cell_type": "code",
   "execution_count": 52,
   "id": "00f437ba-6ac2-4b71-b580-9798b47d4405",
   "metadata": {},
   "outputs": [
    {
     "data": {
      "text/html": [
       "<div>\n",
       "<style scoped>\n",
       "    .dataframe tbody tr th:only-of-type {\n",
       "        vertical-align: middle;\n",
       "    }\n",
       "\n",
       "    .dataframe tbody tr th {\n",
       "        vertical-align: top;\n",
       "    }\n",
       "\n",
       "    .dataframe thead th {\n",
       "        text-align: right;\n",
       "    }\n",
       "</style>\n",
       "<table border=\"1\" class=\"dataframe\">\n",
       "  <thead>\n",
       "    <tr style=\"text-align: right;\">\n",
       "      <th></th>\n",
       "      <th>power</th>\n",
       "    </tr>\n",
       "    <tr>\n",
       "      <th>datetime</th>\n",
       "      <th></th>\n",
       "    </tr>\n",
       "  </thead>\n",
       "  <tbody>\n",
       "    <tr>\n",
       "      <th>2012-01-01 00:15:00</th>\n",
       "      <td>3767</td>\n",
       "    </tr>\n",
       "    <tr>\n",
       "      <th>2012-01-01 00:30:00</th>\n",
       "      <td>3743</td>\n",
       "    </tr>\n",
       "    <tr>\n",
       "      <th>2012-01-01 00:45:00</th>\n",
       "      <td>3691</td>\n",
       "    </tr>\n",
       "    <tr>\n",
       "      <th>2012-01-01 01:00:00</th>\n",
       "      <td>3645</td>\n",
       "    </tr>\n",
       "    <tr>\n",
       "      <th>2012-01-01 01:15:00</th>\n",
       "      <td>3628</td>\n",
       "    </tr>\n",
       "    <tr>\n",
       "      <th>...</th>\n",
       "      <td>...</td>\n",
       "    </tr>\n",
       "    <tr>\n",
       "      <th>2019-12-31 22:45:00</th>\n",
       "      <td>4401</td>\n",
       "    </tr>\n",
       "    <tr>\n",
       "      <th>2019-12-31 23:00:00</th>\n",
       "      <td>4382</td>\n",
       "    </tr>\n",
       "    <tr>\n",
       "      <th>2019-12-31 23:15:00</th>\n",
       "      <td>4354</td>\n",
       "    </tr>\n",
       "    <tr>\n",
       "      <th>2019-12-31 23:30:00</th>\n",
       "      <td>4317</td>\n",
       "    </tr>\n",
       "    <tr>\n",
       "      <th>2019-12-31 23:45:00</th>\n",
       "      <td>4342</td>\n",
       "    </tr>\n",
       "  </tbody>\n",
       "</table>\n",
       "<p>280511 rows × 1 columns</p>\n",
       "</div>"
      ],
      "text/plain": [
       "                     power\n",
       "datetime                  \n",
       "2012-01-01 00:15:00   3767\n",
       "2012-01-01 00:30:00   3743\n",
       "2012-01-01 00:45:00   3691\n",
       "2012-01-01 01:00:00   3645\n",
       "2012-01-01 01:15:00   3628\n",
       "...                    ...\n",
       "2019-12-31 22:45:00   4401\n",
       "2019-12-31 23:00:00   4382\n",
       "2019-12-31 23:15:00   4354\n",
       "2019-12-31 23:30:00   4317\n",
       "2019-12-31 23:45:00   4342\n",
       "\n",
       "[280511 rows x 1 columns]"
      ]
     },
     "execution_count": 52,
     "metadata": {},
     "output_type": "execute_result"
    }
   ],
   "source": [
    "train.iloc[:, :1]"
   ]
  },
  {
   "cell_type": "code",
   "execution_count": 60,
   "id": "3cb75f0e-673d-448a-96d1-4a8943e37230",
   "metadata": {},
   "outputs": [
    {
     "name": "stderr",
     "output_type": "stream",
     "text": [
      "/Users/hackmachine/anaconda3/envs/machineLearning/lib/python3.11/site-packages/sklearn/utils/validation.py:767: FutureWarning: is_sparse is deprecated and will be removed in a future version. Check `isinstance(dtype, pd.SparseDtype)` instead.\n",
      "  if not hasattr(array, \"sparse\") and array.dtypes.apply(is_sparse).any():\n",
      "/Users/hackmachine/anaconda3/envs/machineLearning/lib/python3.11/site-packages/sklearn/utils/validation.py:605: FutureWarning: is_sparse is deprecated and will be removed in a future version. Check `isinstance(dtype, pd.SparseDtype)` instead.\n",
      "  if is_sparse(pd_dtype):\n",
      "/Users/hackmachine/anaconda3/envs/machineLearning/lib/python3.11/site-packages/sklearn/utils/validation.py:614: FutureWarning: is_sparse is deprecated and will be removed in a future version. Check `isinstance(dtype, pd.SparseDtype)` instead.\n",
      "  if is_sparse(pd_dtype) or not is_extension_array_dtype(pd_dtype):\n",
      "/Users/hackmachine/anaconda3/envs/machineLearning/lib/python3.11/site-packages/sklearn/utils/validation.py:767: FutureWarning: is_sparse is deprecated and will be removed in a future version. Check `isinstance(dtype, pd.SparseDtype)` instead.\n",
      "  if not hasattr(array, \"sparse\") and array.dtypes.apply(is_sparse).any():\n",
      "/Users/hackmachine/anaconda3/envs/machineLearning/lib/python3.11/site-packages/sklearn/utils/validation.py:605: FutureWarning: is_sparse is deprecated and will be removed in a future version. Check `isinstance(dtype, pd.SparseDtype)` instead.\n",
      "  if is_sparse(pd_dtype):\n",
      "/Users/hackmachine/anaconda3/envs/machineLearning/lib/python3.11/site-packages/sklearn/utils/validation.py:614: FutureWarning: is_sparse is deprecated and will be removed in a future version. Check `isinstance(dtype, pd.SparseDtype)` instead.\n",
      "  if is_sparse(pd_dtype) or not is_extension_array_dtype(pd_dtype):\n",
      "/Users/hackmachine/anaconda3/envs/machineLearning/lib/python3.11/site-packages/sklearn/utils/validation.py:767: FutureWarning: is_sparse is deprecated and will be removed in a future version. Check `isinstance(dtype, pd.SparseDtype)` instead.\n",
      "  if not hasattr(array, \"sparse\") and array.dtypes.apply(is_sparse).any():\n",
      "/Users/hackmachine/anaconda3/envs/machineLearning/lib/python3.11/site-packages/sklearn/utils/validation.py:605: FutureWarning: is_sparse is deprecated and will be removed in a future version. Check `isinstance(dtype, pd.SparseDtype)` instead.\n",
      "  if is_sparse(pd_dtype):\n",
      "/Users/hackmachine/anaconda3/envs/machineLearning/lib/python3.11/site-packages/sklearn/utils/validation.py:614: FutureWarning: is_sparse is deprecated and will be removed in a future version. Check `isinstance(dtype, pd.SparseDtype)` instead.\n",
      "  if is_sparse(pd_dtype) or not is_extension_array_dtype(pd_dtype):\n"
     ]
    }
   ],
   "source": [
    "# Scaling Dataset\n",
    "\n",
    "# Standardisation - power_std\n",
    "sc = StandardScaler()\n",
    "train.iloc[:, :1] = sc.fit_transform(train.iloc[:, :1])\n",
    "test.iloc[:, :1] = sc.transform(test.iloc[:, :1])"
   ]
  },
  {
   "cell_type": "code",
   "execution_count": 59,
   "id": "0634cd4d-a9fd-4574-a21c-c4c11bd27217",
   "metadata": {},
   "outputs": [
    {
     "data": {
      "text/html": [
       "<div>\n",
       "<style scoped>\n",
       "    .dataframe tbody tr th:only-of-type {\n",
       "        vertical-align: middle;\n",
       "    }\n",
       "\n",
       "    .dataframe tbody tr th {\n",
       "        vertical-align: top;\n",
       "    }\n",
       "\n",
       "    .dataframe thead th {\n",
       "        text-align: right;\n",
       "    }\n",
       "</style>\n",
       "<table border=\"1\" class=\"dataframe\">\n",
       "  <thead>\n",
       "    <tr style=\"text-align: right;\">\n",
       "      <th></th>\n",
       "      <th>power</th>\n",
       "      <th>hour</th>\n",
       "      <th>dayofweek</th>\n",
       "      <th>quarter</th>\n",
       "      <th>month</th>\n",
       "      <th>year</th>\n",
       "      <th>dayofyear</th>\n",
       "      <th>dayofmonth</th>\n",
       "      <th>weekofyear</th>\n",
       "    </tr>\n",
       "    <tr>\n",
       "      <th>datetime</th>\n",
       "      <th></th>\n",
       "      <th></th>\n",
       "      <th></th>\n",
       "      <th></th>\n",
       "      <th></th>\n",
       "      <th></th>\n",
       "      <th></th>\n",
       "      <th></th>\n",
       "      <th></th>\n",
       "    </tr>\n",
       "  </thead>\n",
       "  <tbody>\n",
       "    <tr>\n",
       "      <th>2012-01-01 00:15:00</th>\n",
       "      <td>-1.245882</td>\n",
       "      <td>0</td>\n",
       "      <td>6</td>\n",
       "      <td>1</td>\n",
       "      <td>1</td>\n",
       "      <td>2012</td>\n",
       "      <td>1</td>\n",
       "      <td>1</td>\n",
       "      <td>52</td>\n",
       "    </tr>\n",
       "    <tr>\n",
       "      <th>2012-01-01 00:30:00</th>\n",
       "      <td>-1.279745</td>\n",
       "      <td>0</td>\n",
       "      <td>6</td>\n",
       "      <td>1</td>\n",
       "      <td>1</td>\n",
       "      <td>2012</td>\n",
       "      <td>1</td>\n",
       "      <td>1</td>\n",
       "      <td>52</td>\n",
       "    </tr>\n",
       "    <tr>\n",
       "      <th>2012-01-01 00:45:00</th>\n",
       "      <td>-1.353115</td>\n",
       "      <td>0</td>\n",
       "      <td>6</td>\n",
       "      <td>1</td>\n",
       "      <td>1</td>\n",
       "      <td>2012</td>\n",
       "      <td>1</td>\n",
       "      <td>1</td>\n",
       "      <td>52</td>\n",
       "    </tr>\n",
       "    <tr>\n",
       "      <th>2012-01-01 01:00:00</th>\n",
       "      <td>-1.418019</td>\n",
       "      <td>1</td>\n",
       "      <td>6</td>\n",
       "      <td>1</td>\n",
       "      <td>1</td>\n",
       "      <td>2012</td>\n",
       "      <td>1</td>\n",
       "      <td>1</td>\n",
       "      <td>52</td>\n",
       "    </tr>\n",
       "    <tr>\n",
       "      <th>2012-01-01 01:15:00</th>\n",
       "      <td>-1.442005</td>\n",
       "      <td>1</td>\n",
       "      <td>6</td>\n",
       "      <td>1</td>\n",
       "      <td>1</td>\n",
       "      <td>2012</td>\n",
       "      <td>1</td>\n",
       "      <td>1</td>\n",
       "      <td>52</td>\n",
       "    </tr>\n",
       "    <tr>\n",
       "      <th>...</th>\n",
       "      <td>...</td>\n",
       "      <td>...</td>\n",
       "      <td>...</td>\n",
       "      <td>...</td>\n",
       "      <td>...</td>\n",
       "      <td>...</td>\n",
       "      <td>...</td>\n",
       "      <td>...</td>\n",
       "      <td>...</td>\n",
       "    </tr>\n",
       "    <tr>\n",
       "      <th>2019-12-31 22:45:00</th>\n",
       "      <td>-0.351338</td>\n",
       "      <td>22</td>\n",
       "      <td>1</td>\n",
       "      <td>4</td>\n",
       "      <td>12</td>\n",
       "      <td>2019</td>\n",
       "      <td>365</td>\n",
       "      <td>31</td>\n",
       "      <td>1</td>\n",
       "    </tr>\n",
       "    <tr>\n",
       "      <th>2019-12-31 23:00:00</th>\n",
       "      <td>-0.378146</td>\n",
       "      <td>23</td>\n",
       "      <td>1</td>\n",
       "      <td>4</td>\n",
       "      <td>12</td>\n",
       "      <td>2019</td>\n",
       "      <td>365</td>\n",
       "      <td>31</td>\n",
       "      <td>1</td>\n",
       "    </tr>\n",
       "    <tr>\n",
       "      <th>2019-12-31 23:15:00</th>\n",
       "      <td>-0.417652</td>\n",
       "      <td>23</td>\n",
       "      <td>1</td>\n",
       "      <td>4</td>\n",
       "      <td>12</td>\n",
       "      <td>2019</td>\n",
       "      <td>365</td>\n",
       "      <td>31</td>\n",
       "      <td>1</td>\n",
       "    </tr>\n",
       "    <tr>\n",
       "      <th>2019-12-31 23:30:00</th>\n",
       "      <td>-0.469858</td>\n",
       "      <td>23</td>\n",
       "      <td>1</td>\n",
       "      <td>4</td>\n",
       "      <td>12</td>\n",
       "      <td>2019</td>\n",
       "      <td>365</td>\n",
       "      <td>31</td>\n",
       "      <td>1</td>\n",
       "    </tr>\n",
       "    <tr>\n",
       "      <th>2019-12-31 23:45:00</th>\n",
       "      <td>-0.434584</td>\n",
       "      <td>23</td>\n",
       "      <td>1</td>\n",
       "      <td>4</td>\n",
       "      <td>12</td>\n",
       "      <td>2019</td>\n",
       "      <td>365</td>\n",
       "      <td>31</td>\n",
       "      <td>1</td>\n",
       "    </tr>\n",
       "  </tbody>\n",
       "</table>\n",
       "<p>280511 rows × 9 columns</p>\n",
       "</div>"
      ],
      "text/plain": [
       "                        power  hour  dayofweek  quarter  month  year  \\\n",
       "datetime                                                               \n",
       "2012-01-01 00:15:00 -1.245882     0          6        1      1  2012   \n",
       "2012-01-01 00:30:00 -1.279745     0          6        1      1  2012   \n",
       "2012-01-01 00:45:00 -1.353115     0          6        1      1  2012   \n",
       "2012-01-01 01:00:00 -1.418019     1          6        1      1  2012   \n",
       "2012-01-01 01:15:00 -1.442005     1          6        1      1  2012   \n",
       "...                       ...   ...        ...      ...    ...   ...   \n",
       "2019-12-31 22:45:00 -0.351338    22          1        4     12  2019   \n",
       "2019-12-31 23:00:00 -0.378146    23          1        4     12  2019   \n",
       "2019-12-31 23:15:00 -0.417652    23          1        4     12  2019   \n",
       "2019-12-31 23:30:00 -0.469858    23          1        4     12  2019   \n",
       "2019-12-31 23:45:00 -0.434584    23          1        4     12  2019   \n",
       "\n",
       "                     dayofyear  dayofmonth  weekofyear  \n",
       "datetime                                                \n",
       "2012-01-01 00:15:00          1           1          52  \n",
       "2012-01-01 00:30:00          1           1          52  \n",
       "2012-01-01 00:45:00          1           1          52  \n",
       "2012-01-01 01:00:00          1           1          52  \n",
       "2012-01-01 01:15:00          1           1          52  \n",
       "...                        ...         ...         ...  \n",
       "2019-12-31 22:45:00        365          31           1  \n",
       "2019-12-31 23:00:00        365          31           1  \n",
       "2019-12-31 23:15:00        365          31           1  \n",
       "2019-12-31 23:30:00        365          31           1  \n",
       "2019-12-31 23:45:00        365          31           1  \n",
       "\n",
       "[280511 rows x 9 columns]"
      ]
     },
     "execution_count": 59,
     "metadata": {},
     "output_type": "execute_result"
    }
   ],
   "source": [
    "train"
   ]
  },
  {
   "cell_type": "code",
   "execution_count": null,
   "id": "466eed5d-e6ca-44f3-a7d5-de5a2ab8d6cd",
   "metadata": {},
   "outputs": [],
   "source": [
    "# Normalization - power_normalized"
   ]
  },
  {
   "cell_type": "code",
   "execution_count": null,
   "id": "98db19d0-9ce5-472f-8dd1-2769787c8b4d",
   "metadata": {},
   "outputs": [],
   "source": []
  },
  {
   "cell_type": "markdown",
   "id": "7460e08e-98a7-4bf9-82f1-15c8678274a7",
   "metadata": {},
   "source": [
    "# Training"
   ]
  },
  {
   "cell_type": "code",
   "execution_count": null,
   "id": "fdf1342e-4ebc-4856-b0ed-275518617027",
   "metadata": {},
   "outputs": [],
   "source": [
    "FEATURES = ['dayofyear', 'hour', 'dayofweek', 'quarter', 'month', 'year']\n",
    "TARGET = 'power'\n",
    "\n",
    "X_train = train[FEATURES]\n",
    "y_train = train[TARGET]\n",
    "\n",
    "X_test = test[FEATURES]\n",
    "y_test = test[TARGET]"
   ]
  },
  {
   "cell_type": "code",
   "execution_count": null,
   "id": "b4875c24-47dc-40a8-ac2f-8b85a5d05355",
   "metadata": {},
   "outputs": [],
   "source": [
    "reg = xgb.XGBRegressor(base_score=0.5, booster='gbtree',    \n",
    "                       n_estimators=1500,\n",
    "                       early_stopping_rounds=50,\n",
    "                       objective='reg:linear',\n",
    "                       #max_depth=3,\n",
    "                       learning_rate=0.01)\n",
    "reg.fit(X_train, y_train,\n",
    "        eval_set=[(X_train, y_train), (X_test, y_test)],\n",
    "        verbose=100)"
   ]
  },
  {
   "cell_type": "code",
   "execution_count": null,
   "id": "710dac16-dc41-46d9-b2fa-bfe21ad720e5",
   "metadata": {},
   "outputs": [],
   "source": [
    "# predict on test\n",
    "test['prediction'] = reg.predict(X_test)"
   ]
  },
  {
   "cell_type": "code",
   "execution_count": null,
   "id": "24414a8f-d16a-48d6-8126-2f95cf7db7e3",
   "metadata": {},
   "outputs": [],
   "source": [
    "score = np.sqrt(mean_squared_error(test['power'], test['prediction']))\n",
    "print(f'RMSE Score on Test set: {score:0.2f}')"
   ]
  },
  {
   "cell_type": "markdown",
   "id": "43005b90-4a97-4229-91bc-4852f8ea8f1d",
   "metadata": {},
   "source": [
    "# Predict"
   ]
  },
  {
   "cell_type": "code",
   "execution_count": null,
   "id": "4c5ddc81-21e4-4d10-9140-a4e316e802f6",
   "metadata": {},
   "outputs": [],
   "source": [
    "# We import the test set\n",
    "testSet = pd.read_csv(\"../data/electricistan/test.csv\")\n",
    "submission = pd.read_csv(\"../data/electricistan/sample_submission_csv.csv\")\n",
    "\n",
    "#index for TestSet\n",
    "testSet = testSet.set_index('datetime')\n",
    "testSet.index = pd.to_datetime(testSet.index)"
   ]
  },
  {
   "cell_type": "code",
   "execution_count": null,
   "id": "54d103fc-71b3-4fb5-bb8e-5a2dcc3e8e2c",
   "metadata": {},
   "outputs": [],
   "source": [
    "# Feature creation\n",
    "testSet['hour'] = testSet.index.hour\n",
    "testSet['dayofweek'] = testSet.index.dayofweek\n",
    "testSet['quarter'] = testSet.index.quarter\n",
    "testSet['month'] = testSet.index.month\n",
    "testSet['year'] = testSet.index.year\n",
    "testSet['dayofyear'] = testSet.index.dayofyear\n",
    "testSet['dayofmonth'] = testSet.index.day\n",
    "testSet['weekofyear'] = testSet.index.isocalendar().week"
   ]
  },
  {
   "cell_type": "code",
   "execution_count": null,
   "id": "6c735682-04fe-4a50-9ec2-333b72d0aa52",
   "metadata": {},
   "outputs": [],
   "source": [
    "testSet = testSet[FEATURES]"
   ]
  },
  {
   "cell_type": "code",
   "execution_count": null,
   "id": "fbdc69d0-9cfe-4c09-b003-b228edebee05",
   "metadata": {},
   "outputs": [],
   "source": [
    "print(X_train.shape)\n",
    "print(testSet.shape)"
   ]
  },
  {
   "cell_type": "code",
   "execution_count": null,
   "id": "c222ba10-31cb-4be5-b261-00824f2e5118",
   "metadata": {},
   "outputs": [],
   "source": [
    "# Prediction with XGBoost\n",
    "pred = reg.predict(testSet)"
   ]
  },
  {
   "cell_type": "markdown",
   "id": "9289ded8-d6d4-4615-86b0-ebb54256b882",
   "metadata": {},
   "source": [
    "# Submission write"
   ]
  },
  {
   "cell_type": "code",
   "execution_count": null,
   "id": "b4205967-529e-4770-89c0-729a0bfffd6f",
   "metadata": {},
   "outputs": [],
   "source": [
    "# Creation of the submission CSV\n",
    "submission['power'] = pred\n",
    "\n",
    "print(submission)\n",
    "\n",
    "submission.to_csv('../data/electricistan/submission.csv',index=False)"
   ]
  }
 ],
 "metadata": {
  "kernelspec": {
   "display_name": "Python 3 (ipykernel)",
   "language": "python",
   "name": "python3"
  },
  "language_info": {
   "codemirror_mode": {
    "name": "ipython",
    "version": 3
   },
   "file_extension": ".py",
   "mimetype": "text/x-python",
   "name": "python",
   "nbconvert_exporter": "python",
   "pygments_lexer": "ipython3",
   "version": "3.11.5"
  }
 },
 "nbformat": 4,
 "nbformat_minor": 5
}
