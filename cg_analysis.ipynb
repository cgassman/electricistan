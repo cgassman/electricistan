{
 "cells": [
  {
   "cell_type": "markdown",
   "id": "417fc922-d02d-44d5-84ff-93dbb11a9a3c",
   "metadata": {},
   "source": [
    "# Electricistan"
   ]
  },
  {
   "cell_type": "code",
   "execution_count": 2,
   "id": "d60d1460-f6bc-4f2c-81ad-64f2078b7595",
   "metadata": {},
   "outputs": [],
   "source": [
    "import pandas as pd"
   ]
  },
  {
   "cell_type": "code",
   "execution_count": 4,
   "id": "eb72856f-e6cd-4e6c-92cb-9274b1e83e84",
   "metadata": {},
   "outputs": [],
   "source": [
    "orig_data = pd.read_csv(\"./data/train.csv\")"
   ]
  },
  {
   "cell_type": "code",
   "execution_count": 5,
   "id": "80b69667-cdf5-4d6e-a463-12c5bb922e82",
   "metadata": {},
   "outputs": [
    {
     "name": "stdout",
     "output_type": "stream",
     "text": [
      "              datetime  power\n",
      "0  2012.01.01 00:15:00   3767\n",
      "1  2012.01.01 00:30:00   3743\n",
      "2  2012.01.01 00:45:00   3691\n",
      "3  2012.01.01 01:00:00   3645\n"
     ]
    }
   ],
   "source": [
    "print(orig_data.head(4))"
   ]
  },
  {
   "cell_type": "code",
   "execution_count": null,
   "id": "98a761ac-0ec6-4c32-a4c3-1c65f68d8858",
   "metadata": {},
   "outputs": [],
   "source": []
  }
 ],
 "metadata": {
  "kernelspec": {
   "display_name": "Python 3 (ipykernel)",
   "language": "python",
   "name": "python3"
  },
  "language_info": {
   "codemirror_mode": {
    "name": "ipython",
    "version": 3
   },
   "file_extension": ".py",
   "mimetype": "text/x-python",
   "name": "python",
   "nbconvert_exporter": "python",
   "pygments_lexer": "ipython3",
   "version": "3.12.0"
  }
 },
 "nbformat": 4,
 "nbformat_minor": 5
}
