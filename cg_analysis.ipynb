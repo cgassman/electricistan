{
 "cells": [
  {
   "cell_type": "markdown",
   "id": "417fc922-d02d-44d5-84ff-93dbb11a9a3c",
   "metadata": {},
   "source": [
    "# Electricistan\n",
    "\n",
    "Problem to be solved: Datetime (yyyy.mm.dd hh:mm:00) is given and power-consumption for this given point in time needs to be predicted/forecasted for the next two weeks. \n",
    "\"Given past data, predict power-consumption for the two weeks ahead for a selected point in time.\" \n",
    "Root Mean Squared Error (RMSE) is being used - between predicted value and observed power consumption. "
   ]
  },
  {
   "cell_type": "code",
   "execution_count": null,
   "id": "d60d1460-f6bc-4f2c-81ad-64f2078b7595",
   "metadata": {},
   "outputs": [],
   "source": [
    "import numpy as np\n",
    "import pandas as pd\n",
    "import seaborn as sns\n",
    "import matplotlib.pyplot as plt\n",
    "import plotly.express as px\n",
    "import plotly.graph_objects as go\n",
    "from statsmodels.tsa.seasonal import seasonal_decompose\n",
    "\n",
    "# use inline backend for figures - default.\n",
    "%matplotlib inline   "
   ]
  },
  {
   "cell_type": "code",
   "execution_count": null,
   "id": "eb72856f-e6cd-4e6c-92cb-9274b1e83e84",
   "metadata": {},
   "outputs": [],
   "source": [
    "# read data and have a first look at the beginning and at the end. \n",
    "orig_data = pd.read_csv(\"../data/electricistan/train.csv\")"
   ]
  },
  {
   "cell_type": "code",
   "execution_count": null,
   "id": "e4cfeb9c-71e7-4385-a101-f4c4bd0bfa88",
   "metadata": {},
   "outputs": [],
   "source": [
    "print(orig_data.head(100))"
   ]
  },
  {
   "cell_type": "code",
   "execution_count": null,
   "id": "05532cd6-596c-46a5-a279-5669617a07fc",
   "metadata": {},
   "outputs": [],
   "source": [
    "# explore data quickly. No missing data can be detected at a first look. But datetime is of type object instead of datetime.\n",
    "# more than 370'000 records of data available.\n",
    "orig_data.info()"
   ]
  },
  {
   "cell_type": "code",
   "execution_count": null,
   "id": "3fe57f77-dcfe-4ae0-8f53-3905818917eb",
   "metadata": {},
   "outputs": [],
   "source": [
    "# convert datetime from object to datetime format. \n",
    "orig_data['datetime'] = pd.to_datetime(orig_data['datetime'])"
   ]
  },
  {
   "cell_type": "markdown",
   "id": "122cf88e-49fb-4a26-ba22-6cd87a2d923a",
   "metadata": {},
   "source": [
    "## Explore Data"
   ]
  },
  {
   "cell_type": "code",
   "execution_count": null,
   "id": "2874fc12-05c9-4166-8435-d6e5f2e0c472",
   "metadata": {},
   "outputs": [],
   "source": [
    "# No missing data for datetime and power - null/nan values. \n",
    "orig_data.isna().sum()"
   ]
  },
  {
   "cell_type": "code",
   "execution_count": null,
   "id": "b4d2958f-cd70-46d0-9b36-4b67a6323284",
   "metadata": {},
   "outputs": [],
   "source": [
    "# Get a first data insight regarding descriptive stats\n",
    "orig_data.describe()"
   ]
  },
  {
   "cell_type": "code",
   "execution_count": null,
   "id": "80da3783-e84d-4653-a864-bef8d724f111",
   "metadata": {},
   "outputs": [],
   "source": [
    "# plot data a first time. Result is too dense and no valuable info can be seen...\n",
    "sns.lineplot(orig_data, x=\"datetime\", y=\"power\")"
   ]
  },
  {
   "cell_type": "code",
   "execution_count": null,
   "id": "7089eae8-1e6c-4329-8cb7-d49358771983",
   "metadata": {
    "scrolled": true
   },
   "outputs": [],
   "source": [
    "# resize figure, set style and add zooming option to get more insights.\n",
    "plt.figure(figsize=(16,7))\n",
    "sns.set_style('darkgrid')\n",
    "sns.lineplot(data=orig_data, x='datetime', y='power')\n",
    "plt.show()\n",
    "\n",
    "px.line(orig_data, x='datetime', y='power')"
   ]
  },
  {
   "cell_type": "code",
   "execution_count": null,
   "id": "f26fcf78-c794-481b-b48a-156342e9a355",
   "metadata": {},
   "outputs": [],
   "source": [
    "# check distribution of 'power' and if there are any outliers\n",
    "fig, ax = plt.subplots(figsize=(4,3))\n",
    "ax.boxplot(orig_data.power, vert=False)\n",
    "ax.set_xlabel(\"power\")\n",
    "plt.show()"
   ]
  },
  {
   "cell_type": "code",
   "execution_count": null,
   "id": "781ae575-8a32-4d7d-8f7f-6627f8b33542",
   "metadata": {},
   "outputs": [],
   "source": [
    "# Have a look at the histogram (10 bins) data is --not-- distributed normally. \n",
    "fig, ax = plt.subplots(figsize=(4,3))\n",
    "sns.histplot(orig_data.power, bins=10, kde=True)\n",
    "ax.set_xlabel(\"number of values\")\n",
    "ax.set_ylabel(\"power\")\n",
    "plt.title(\"Histogram with 10 bins\")\n",
    "plt.show()"
   ]
  },
  {
   "cell_type": "code",
   "execution_count": null,
   "id": "1595ea95-eb2a-42a7-a49a-0bc2ad3f88bb",
   "metadata": {},
   "outputs": [],
   "source": [
    "# check ranges selected for the 10 bins and respective amount of 'power' values for each bin. \n",
    "np.histogram(orig_data.power, bins=10)"
   ]
  },
  {
   "cell_type": "code",
   "execution_count": null,
   "id": "4b693b98-44ad-46d8-8d5d-711e06daa18a",
   "metadata": {},
   "outputs": [],
   "source": [
    "# enhance dataset by date on a day basis - attach timestamp to a single day\n",
    "temp_data = orig_data.copy()\n",
    "temp_data['date'] = pd.DatetimeIndex(temp_data['datetime']).date\n",
    "# count number of days in the dataset.\n",
    "temp_data['date'].nunique()   "
   ]
  },
  {
   "cell_type": "code",
   "execution_count": null,
   "id": "61d4172e-45b4-44bb-b048-6c1fbd3f1554",
   "metadata": {},
   "outputs": [],
   "source": [
    "# Timeseries decompose - level, trend, seasonality, noise\n",
    "# use a year for period = 4 (values per hour) * 24 (hours) * 365 (days) = 35040\n",
    "data_decomposed = seasonal_decompose(x=temp_data.power, model=\"additive\", period=35040)\n",
    "trend_estimate = data_decomposed.trend\n",
    "seasonal_estimate = data_decomposed.seasonal\n",
    "residual_estimate = data_decomposed.resid"
   ]
  },
  {
   "cell_type": "code",
   "execution_count": null,
   "id": "9cda4aa9-0ca8-4ace-b314-7f8d41aa251b",
   "metadata": {},
   "outputs": [],
   "source": [
    "fig, axes = plt.subplots(4, 1, sharex=True, sharey=False)\n",
    "fig.set_figheight(10)\n",
    "fig.set_figwidth(20)\n",
    "#Original data\n",
    "axes[0].plot(temp_data.power, label='Original')\n",
    "axes[0].legend(loc='upper left')\n",
    "#Trend\n",
    "axes[1].plot(trend_estimate, label='Trend')\n",
    "axes[1].legend(loc='upper left')\n",
    "#Sesonality\n",
    "axes[2].plot(seasonal_estimate, label='Seasonality')\n",
    "axes[2].legend(loc='upper left')\n",
    "#Residuals\n",
    "axes[3].plot(residual_estimate, label='Residuals')\n",
    "axes[3].legend(loc='upper left')"
   ]
  },
  {
   "cell_type": "markdown",
   "id": "42da3b88-1ccf-4fca-a620-8ec73ac3d1f8",
   "metadata": {},
   "source": [
    "## Prepare Data"
   ]
  },
  {
   "cell_type": "code",
   "execution_count": null,
   "id": "32a509ab-cc92-4dd9-8f70-b5dc9b48aecd",
   "metadata": {},
   "outputs": [],
   "source": [
    "df_temp = orig_data.copy()"
   ]
  },
  {
   "cell_type": "code",
   "execution_count": null,
   "id": "7f15759c-6ba1-4d62-a531-d2624c6aa991",
   "metadata": {},
   "outputs": [],
   "source": [
    "df_temp = df_temp.set_index('datetime')\n",
    "df_temp.index = pd.to_datetime(df_temp.index)\n",
    "df_temp.head()"
   ]
  },
  {
   "cell_type": "code",
   "execution_count": null,
   "id": "bac21192-caef-4d05-8713-f6f4307c917f",
   "metadata": {},
   "outputs": [],
   "source": [
    "# Feature creation\n",
    "df_temp['hour'] = df_temp.index.hour\n",
    "df_temp['dayofweek'] = df_temp.index.dayofweek\n",
    "df_temp['quarter'] = df_temp.index.quarter\n",
    "df_temp['month'] = df_temp.index.month\n",
    "df_temp['year'] = df_temp.index.year\n",
    "df_temp['dayofyear'] = df_temp.index.dayofyear\n",
    "df_temp['dayofmonth'] = df_temp.index.day\n",
    "df_temp['weekofyear'] = df_temp.index.isocalendar().week"
   ]
  },
  {
   "cell_type": "code",
   "execution_count": null,
   "id": "46febbc7-190d-40ff-8aad-c8f823d41e05",
   "metadata": {},
   "outputs": [],
   "source": [
    "df_temp.head()\n",
    "# dayofweek 6 = Sun ... as 01.01.2012 was a Sun..."
   ]
  },
  {
   "cell_type": "code",
   "execution_count": null,
   "id": "14d8a29c-fa71-4e36-a26d-fb26dab8b3cc",
   "metadata": {},
   "outputs": [],
   "source": [
    "fig, ax = plt.subplots(figsize=(10, 8))\n",
    "sns.boxplot(data=df_temp, x='month', y='power')\n",
    "ax.set_title('power by month')\n",
    "plt.show()"
   ]
  },
  {
   "cell_type": "code",
   "execution_count": null,
   "id": "23daa761-1c98-4956-a6fe-87d357e326b7",
   "metadata": {},
   "outputs": [],
   "source": [
    "fig, ax = plt.subplots(figsize=(10, 8))\n",
    "sns.boxplot(data=df_temp, x='hour', y='power', palette='Blues')\n",
    "ax.set_title('power by hour')\n",
    "plt.show()"
   ]
  },
  {
   "cell_type": "markdown",
   "id": "145e38bd-9e02-4023-b44a-f5ddcd808238",
   "metadata": {},
   "source": [
    "## Additional Data\n",
    "Additional data that might be interesting and influencing power consumption and therefore needs to be added to the dataframe. "
   ]
  },
  {
   "cell_type": "code",
   "execution_count": null,
   "id": "2858bd40-9b21-4a4d-9bfb-43597a66a849",
   "metadata": {},
   "outputs": [],
   "source": [
    "# Vacation - depending on region\n",
    "# Weather?\n",
    "# Corona?"
   ]
  },
  {
   "cell_type": "markdown",
   "id": "f0545e18-fac1-4b34-b8c7-68854a8a925c",
   "metadata": {},
   "source": [
    "# Write Data"
   ]
  },
  {
   "cell_type": "code",
   "execution_count": null,
   "id": "cb8fe074-e9ec-4d87-8a35-8a7d6fa965de",
   "metadata": {},
   "outputs": [],
   "source": [
    "# write data to csv and train from there\n",
    "df_temp.to_csv(\"../data/electricistan/train_prepped.csv\")"
   ]
  },
  {
   "cell_type": "code",
   "execution_count": null,
   "id": "9a0e5427-319d-4b4c-80b5-ea0a4bbd6b16",
   "metadata": {},
   "outputs": [],
   "source": []
  }
 ],
 "metadata": {
  "kernelspec": {
   "display_name": "Python 3 (ipykernel)",
   "language": "python",
   "name": "python3"
  },
  "language_info": {
   "codemirror_mode": {
    "name": "ipython",
    "version": 3
   },
   "file_extension": ".py",
   "mimetype": "text/x-python",
   "name": "python",
   "nbconvert_exporter": "python",
   "pygments_lexer": "ipython3",
   "version": "3.11.5"
  }
 },
 "nbformat": 4,
 "nbformat_minor": 5
}
